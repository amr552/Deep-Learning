{
  "nbformat": 4,
  "nbformat_minor": 0,
  "metadata": {
    "colab": {
      "provenance": [],
      "authorship_tag": "ABX9TyOsT3JWlDBfWQzZSupQuj3u",
      "include_colab_link": true
    },
    "kernelspec": {
      "name": "python3",
      "display_name": "Python 3"
    },
    "language_info": {
      "name": "python"
    }
  },
  "cells": [
    {
      "cell_type": "markdown",
      "metadata": {
        "id": "view-in-github",
        "colab_type": "text"
      },
      "source": [
        "<a href=\"https://colab.research.google.com/github/amr552/Deep-Learning/blob/NLP/textMining.ipynb\" target=\"_parent\"><img src=\"https://colab.research.google.com/assets/colab-badge.svg\" alt=\"Open In Colab\"/></a>"
      ]
    },
    {
      "cell_type": "code",
      "execution_count": 1,
      "metadata": {
        "id": "Ym9EtNxp6TG2",
        "colab": {
          "base_uri": "https://localhost:8080/"
        },
        "outputId": "4c1d0cfa-2743-42e1-ae23-ad20ace21ca0"
      },
      "outputs": [
        {
          "output_type": "stream",
          "name": "stdout",
          "text": [
            "Write your paragraph: Text mining is an interdisciplinary field that involves extracting meaningful information from text. It encompasses various techniques such as natural language processing, machine learning, and computational linguistics. Text mining can be applied to diverse domains including social media analysis, sentiment analysis, and information retrieval. One of the primary challenges in text mining is dealing with unstructured data and handling the vast amounts of text generated every day. However, with advances in technology, text mining tools and algorithms continue to improve, enabling more efficient and accurate analysis.\n",
            "Number of punctuations: 12\n",
            "Total number of sentences: 6\n",
            "Total number of words: 86\n",
            "Number of syllables in the text: 154\n",
            "Number of words by syllables: [44, 23, 15, 2, 1, 1]\n",
            "Average word count per sentence: 17.2\n",
            "Average number of syllables per word: 1.7906976744186047\n",
            "3 most used words: [('text', 6), ('and', 5), ('mining', 4)]\n",
            "The 3 most and least used letters: ([('n', 60), ('i', 57), ('e', 51)], [('q', 1), ('b', 2), ('w', 3)])\n"
          ]
        }
      ],
      "source": [
        "import re\n",
        "from collections import Counter\n",
        "count_sentence=0\n",
        "def count_punctuations(text):\n",
        "    return sum(1 for char in text if char in '.,?!')\n",
        "\n",
        "def count_sentences(text):\n",
        "    # Splitting text into sentences based on punctuation marks and counting the resulting list\n",
        "    return len(re.split(r'[.!?]+', text))\n",
        "\n",
        "def count_words(text):\n",
        "    # Splitting text into words based on whitespace characters and counting the resulting list\n",
        "\n",
        "    count_sentence=len(re.findall(r'\\b\\w+\\b', text))\n",
        "    return count_sentence\n",
        "\n",
        "def count_syllables(word):\n",
        "    vowels = \"aeiouy\"\n",
        "    count = 0\n",
        "    word = word.lower().strip(\".:;?!\")\n",
        "\n",
        "    # Handle special case of silent 'e' at the end\n",
        "    if word.endswith('e') and len(word) > 1 and word[-2] not in vowels:\n",
        "        word = word[:-1]\n",
        "\n",
        "    # Handle diphthongs and digraphs (simplified)\n",
        "    diphthongs = ['ai', 'au', 'ea', 'ee', 'ei', 'eu', 'ie', 'oa', 'oo', 'ou', 'ui']\n",
        "    for diphthong in diphthongs:\n",
        "        if diphthong in word:\n",
        "            word = word.replace(diphthong, 'X')\n",
        "\n",
        "    # Handle consonant 'le'\n",
        "    if len(word) > 2 and word[-2:] == 'le' and word[-3] not in vowels:\n",
        "        count += 1\n",
        "\n",
        "    # Count vowel groups as syllables\n",
        "    prev_char = ''\n",
        "    for char in word:\n",
        "        if char in vowels and prev_char not in vowels:\n",
        "            count += 1\n",
        "        prev_char = char\n",
        "\n",
        "    # Ensure at least one syllable\n",
        "    if count == 0:\n",
        "        count = 1\n",
        "\n",
        "    return count\n",
        "\n",
        "\n",
        "def count_words_by_syllables(text):\n",
        "    syllables_count = [0, 0, 0, 0, 0, 0]\n",
        "    words = re.findall(r'\\b\\w+\\b', text)\n",
        "    for word in words:\n",
        "        syllable_count = count_syllables(word)\n",
        "        if syllable_count <= 5:\n",
        "            syllables_count[syllable_count - 1] += 1\n",
        "        else:\n",
        "            syllables_count[5] += 1\n",
        "    return syllables_count\n",
        "\n",
        "def average_word_count_sentence(text):\n",
        "    sentences = re.split(r'[.!?]+', text)\n",
        "    word_counts = [count_words(sentence) for sentence in sentences if sentence.strip()]\n",
        "    return sum(word_counts) / len(word_counts) if word_counts else 0\n",
        "\n",
        "def average_syllables_per_word(text):\n",
        "    words = re.findall(r'\\b\\w+\\b', text)\n",
        "    syllable_count = sum(count_syllables(word) for word in words)\n",
        "    return syllable_count / len(words) if words else 0\n",
        "\n",
        "def most_used_words(text, n=3):\n",
        "    words = re.findall(r'\\b\\w+\\b', text.lower())\n",
        "    word_counts = Counter(words)\n",
        "    return word_counts.most_common(n)\n",
        "\n",
        "def most_and_least_used_letters(text, n=3):\n",
        "    letters = [char.lower() for char in text if char.isalpha()]\n",
        "    letter_counts = Counter(letters)\n",
        "    most_used = letter_counts.most_common(n)\n",
        "    least_used = letter_counts.most_common()[:-n-1:-1]\n",
        "    return most_used, least_used\n",
        "\n",
        "# Example usage\n",
        "text = input('Write your paragraph: ')\n",
        "print(\"Number of punctuations:\", count_punctuations(text))\n",
        "print(\"Total number of sentences:\", count_sentences(text))\n",
        "print(\"Total number of words:\", count_words(text))\n",
        "print(\"Number of syllables in the text:\", sum(count_syllables(word) for word in re.findall(r'\\b\\w+\\b', text)))\n",
        "print(\"Number of words by syllables:\", count_words_by_syllables(text))\n",
        "print(\"Average word count per sentence:\", average_word_count_sentence(text))\n",
        "print(\"Average number of syllables per word:\", average_syllables_per_word(text))\n",
        "print(\"3 most used words:\", most_used_words(text))\n",
        "print(\"The 3 most and least used letters:\", most_and_least_used_letters(text))\n",
        "#Text mining is an interdisciplinary field that involves extracting meaningful information from text. It encompasses various techniques such as natural language processing, machine learning, and computational linguistics. Text mining can be applied to diverse domains including social media analysis, sentiment analysis, and information retrieval. One of the primary challenges in text mining is dealing with unstructured data and handling the vast amounts of text generated every day. However, with advances in technology, text mining tools and algorithms continue to improve, enabling more efficient and accurate analysis.\n"
      ]
    },
    {
      "cell_type": "code",
      "source": [],
      "metadata": {
        "id": "dN3a5R5_woMr"
      },
      "execution_count": null,
      "outputs": []
    }
  ]
}