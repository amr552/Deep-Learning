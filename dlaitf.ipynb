{
  "nbformat": 4,
  "nbformat_minor": 0,
  "metadata": {
    "colab": {
      "provenance": []
    },
    "kernelspec": {
      "name": "python3",
      "display_name": "Python 3"
    },
    "language_info": {
      "name": "python"
    }
  },
  "cells": [
    {
      "cell_type": "markdown",
      "source": [
        "week 1\n",
        "> Simple code"
      ],
      "metadata": {
        "id": "78bjCCT8Yi7d"
      }
    },
    {
      "cell_type": "code",
      "execution_count": null,
      "metadata": {
        "id": "lzKTWNTa4Ac1"
      },
      "outputs": [],
      "source": [
        "#import the libraries\n",
        "import tensorflow as tf\n",
        "import numpy as np\n",
        "from tensorflow import keras #importing keras for the sequential of DL layers\n"
      ]
    },
    {
      "cell_type": "code",
      "source": [
        "#create the model\n",
        "model=tf.keras.Sequential([keras.layers.Dense(units=1,input_shape=[1])])"
      ],
      "metadata": {
        "id": "cKyikug24Yr3"
      },
      "execution_count": null,
      "outputs": []
    },
    {
      "cell_type": "code",
      "source": [
        "#compile the model\n",
        "model.compile(optimizer='sgd',loss='mean_squared_error')"
      ],
      "metadata": {
        "id": "uZ1n5-745Nlj"
      },
      "execution_count": null,
      "outputs": []
    },
    {
      "cell_type": "code",
      "source": [
        "#declare the model inputs and outputs shape for training through numpy library\n",
        "x=np.array([-1.0,0.0,1.0,2.0,3.0,4.0], dtype=float)\n",
        "y=np.array([-3.0,-1.0,1.0,3.0,5.0,7.0], dtype=float)"
      ],
      "metadata": {
        "id": "RUH1hYBh5oX1"
      },
      "execution_count": null,
      "outputs": []
    },
    {
      "cell_type": "code",
      "source": [
        "#training the model\n",
        "model.fit(x,y,epochs=500)"
      ],
      "metadata": {
        "id": "r-0tcHaf6aAM"
      },
      "execution_count": null,
      "outputs": []
    },
    {
      "cell_type": "code",
      "source": [
        "#test the model\n",
        "print(model.predict([15.0]))"
      ],
      "metadata": {
        "colab": {
          "base_uri": "https://localhost:8080/"
        },
        "id": "69wb0kYP6yV6",
        "outputId": "d40cbd0b-9446-4e3a-c733-c20b03871d2e"
      },
      "execution_count": null,
      "outputs": [
        {
          "output_type": "stream",
          "name": "stdout",
          "text": [
            "1/1 [==============================] - 0s 97ms/step\n",
            "[[28.976547]]\n"
          ]
        }
      ]
    },
    {
      "cell_type": "markdown",
      "source": [],
      "metadata": {
        "id": "1LoxiQWaZJR6"
      }
    },
    {
      "cell_type": "code",
      "source": [
        "import tensorflow as tf\n",
        "print(tf.__version__)"
      ],
      "metadata": {
        "id": "DbnGinoI7FpT",
        "colab": {
          "base_uri": "https://localhost:8080/"
        },
        "outputId": "1da2ee85-6085-43cd-b5ae-73aa00147d54"
      },
      "execution_count": null,
      "outputs": [
        {
          "output_type": "stream",
          "name": "stdout",
          "text": [
            "2.15.0\n"
          ]
        }
      ]
    },
    {
      "cell_type": "code",
      "source": [
        "fminst=tf.keras.datasets.fashion_mnist"
      ],
      "metadata": {
        "id": "xzdfj03iZYF8"
      },
      "execution_count": null,
      "outputs": []
    },
    {
      "cell_type": "code",
      "source": [
        "(training_images, training_labels),(test_images, test_label)=fminst.load_data()"
      ],
      "metadata": {
        "id": "_I2yfLHNZlv3"
      },
      "execution_count": null,
      "outputs": []
    },
    {
      "cell_type": "code",
      "source": [
        "import numpy as np\n",
        "import matplotlib.pyplot as plt\n",
        "#you can put a value between 0 and 59999\n",
        "index=50000\n",
        "\n",
        "#set number of characters per row when painting\n",
        "np.set_printoptions(linewidth=320)\n",
        "#print label and image\n",
        "print(f'Labels: {training_labels[index]}')\n",
        "print(f'\\n IMAGE PIXEL ARRAY \\n: {training_images[index]}')\n",
        "\n",
        "#show the image\n",
        "plt.imshow(training_images[index],cmap='Greys')"
      ],
      "metadata": {
        "colab": {
          "base_uri": "https://localhost:8080/",
          "height": 985
        },
        "id": "xU7CczCSiuuH",
        "outputId": "a1a86775-ef49-4695-f1cc-827b65abfe89"
      },
      "execution_count": null,
      "outputs": [
        {
          "output_type": "stream",
          "name": "stdout",
          "text": [
            "Labels: 9\n",
            "\n",
            " IMAGE PIXEL ARRAY \n",
            ": [[  0   0   0   0   0   0   0   0   0   0   0   0   0   0   0   0   0   0   0   0   0   0   0   0   0   0   0   0]\n",
            " [  0   0   0   0   0   0   0   0   0   0   0   0   0   0   0   0   0   0   0   0   0   0   0   0   0   0   0   0]\n",
            " [  0   0   0   0   0   0   0   0   0   0   0   0   0   0   0   0   0   0   0   0   0   0   0   0   0   0   0   0]\n",
            " [  0   0   0   0   0   0   0   0   0   0   0   0   0   0   0   0   0   0   0   0   0   0   0   0   0   0   0   0]\n",
            " [  0   0   0   0   0   0   0   0   0   1   0   0   0   0   2   0   1   0  16  94   0   0   2   1   1   0   1   0]\n",
            " [  0   0   0   0   0   0   0   0   0   0   1   0   1   1   0   0   1   0 101 196 187   8   0   0   0   1   0   0]\n",
            " [  0   0   0   0   0   0   0   0   0   0   1   0   1   1   0   1   0   0 161 167 166 112  11   1   0   0   6   0]\n",
            " [  0   0   0   0   0   0   0   0   0   1   0   0   0   0   0   3   0 121 213 187 183 180 179 155 147 129 175   8]\n",
            " [  0   0   0   0   0   0   0   0   0   0   1   0   0   1   2   1   0 119 198 183 185 170 185 172 170 170 146   2]\n",
            " [  0   0   0   0   0   0   0   0   0   0   0   0   0   2   3   0   0 175 208 176 212 180 174 166 164 164 144   0]\n",
            " [  0   0   0   0   0   0   0   0   0   0   0   0   0   2   0   0  73 255 192 134 175 183 192 184 189 179 193   0]\n",
            " [  0   0   0   0   0   0   0   0   0   0   0   2   1   0   0  70 192 170 134 189 192 175 157 156 171 149 180   8]\n",
            " [  0   0   0   1   0   0   0   0   0   1   3   1   0  35  99 181 183 126 175 197 208 203 197 188 175 158 187  14]\n",
            " [  1   1   0   0   1   1   1   1   2   2   0   0  70 188 188 116 131 180 202 190 181 188 187 175 167 156 199  34]\n",
            " [  0   0   3   3   2   0   0   0   0   0   3  69 179 106 134 151 187 183 178 171 169 187 187 183 188 167 210  53]\n",
            " [  0   0   0   0   0   0   1  11  19  57 114 130 125 129 160 174 178 184 185 196 197 198 192 188 189 166 211  52]\n",
            " [  7   0  29  87  88 105 101  99 108 110 110 137 155 166 174 179 174 176 180 181 181 180 180 184 174 169 211  66]\n",
            " [  0  19 143 119 115 116 111 114 119 116 125 139 147 155 158 161 170 172 174 174 179 188 192 184 170 174 203  85]\n",
            " [  0  98 162 148 146 140 137 146 147 152 153 155 158 164 166 169 171 172 179 175 176 180 187 180 180 183 197  92]\n",
            " [ 49 128 133 162 175 179 178 165 162 157 158 165 178 180 180 187 190 194 202 207 210 205 216 217 212 212 216  94]\n",
            " [ 28 131 138 140 144 161 171 184 196 194 194 197 205 208 206 202 201 201 197 194 190 180 175 165 152 147 157 112]\n",
            " [  0   0  48 116 158 164 151 157 160 169 172 172 172 183 185 202 181 171 152 170 170 162 167 175 170 162 157 123]\n",
            " [  3   0   0   0   6  53 105 143 169 165 185 183 194 172  69  38  20   1   0  67 216 213 202 210 208 198 192 134]\n",
            " [  0   2   2   0   0   0   0   0   0   0   0   0   5   1   0   0   0   1   0   0  47  56  48  41  43  39  35   1]\n",
            " [  0   0   0   0   0   0   0   0   0   0   0   0   0   0   0   0   0   0   0   0   0   0   0   0   0   0   0   0]\n",
            " [  0   0   0   0   0   0   0   0   0   0   0   0   0   0   0   0   0   0   0   0   0   0   0   0   0   0   0   0]\n",
            " [  0   0   0   0   0   0   0   0   0   0   0   0   0   0   0   0   0   0   0   0   0   0   0   0   0   0   0   0]\n",
            " [  0   0   0   0   0   0   0   0   0   0   0   0   0   0   0   0   0   0   0   0   0   0   0   0   0   0   0   0]]\n"
          ]
        },
        {
          "output_type": "execute_result",
          "data": {
            "text/plain": [
              "<matplotlib.image.AxesImage at 0x78bf3bba4280>"
            ]
          },
          "metadata": {},
          "execution_count": 13
        },
        {
          "output_type": "display_data",
          "data": {
            "text/plain": [
              "<Figure size 640x480 with 1 Axes>"
            ],
            "image/png": "[encoded data removed]"
          },
          "metadata": {}
        }
      ]
    },
    {
      "cell_type": "code",
      "source": [
        "#normalize the pixel values of training and test dataset\n",
        "training_images=training_images/255.0\n",
        "test_images=test_images/255.0\n"
      ],
      "metadata": {
        "id": "GwyPoFWJmslL"
      },
      "execution_count": null,
      "outputs": []
    },
    {
      "cell_type": "code",
      "source": [
        "model=tf.keras.models.Sequential([\n",
        "    tf.keras.layers.Flatten(),\n",
        "    tf.keras.layers.Dense(128,activation=tf.nn.relu),\n",
        "    tf.keras.layers.Dense(10,activation=tf.nn.relu)\n",
        "])"
      ],
      "metadata": {
        "id": "ZqxJxXuPopdT"
      },
      "execution_count": null,
      "outputs": []
    },
    {
      "cell_type": "code",
      "source": [
        "#Declare sample inputs and convert to a tensor\n",
        "inputs=np.array([[1.0,3.0,4.0,2.0]])\n",
        "inputs=tf.convert_to_tensor(inputs)\n",
        "print(f'input tot softmax function: {inputs.numpy()}')\n",
        "\n",
        "#Feed the inputs to a softmax activation function\n",
        "outputs = tf.keras.activations.softmax(inputs)\n",
        "print(f'output of softmax function: {outputs.numpy()}')\n",
        "\n",
        "#Get the fum of all values after the sotfmax\n",
        "sum=tf.reduce_sum(outputs)\n",
        "print(f'sum of outputs: {sum}')\n",
        "\n",
        "#Get the index with highest value\n",
        "prediction=np.argmax(outputs)\n",
        "print(f'class with highest probability: {prediction}')"
      ],
      "metadata": {
        "colab": {
          "base_uri": "https://localhost:8080/"
        },
        "id": "vk8od50CrViW",
        "outputId": "6def40ad-ff23-48a1-bd94-3038480df125"
      },
      "execution_count": null,
      "outputs": [
        {
          "output_type": "stream",
          "name": "stdout",
          "text": [
            "input tot softmax function: [[1. 3. 4. 2.]]\n",
            "output of softmax function: [[0.0320586  0.23688282 0.64391426 0.08714432]]\n",
            "sum of outputs: 1.0\n",
            "class with highest probability: 2\n"
          ]
        }
      ]
    },
    {
      "cell_type": "code",
      "source": [
        "class MyCallback(tf.keras.callbacks.Callback):\n",
        "  def on_epoch_end(self,epoch,logs={}):\n",
        "    if(logs.get('loss')<0.4):\n",
        "      print(\"\\nLoss is low so cancelling training!\")\n",
        "      self.model.stop_training = True"
      ],
      "metadata": {
        "id": "4rx8yvnRwhtQ"
      },
      "execution_count": null,
      "outputs": []
    },
    {
      "cell_type": "code",
      "source": [
        "callbacks=MyCallback()\n",
        "model.compile(optimizer=tf.optimizers.Adam(),\n",
        "              loss='sparse_categorical_crossentropy',\n",
        "              metrics=['accuracy'])"
      ],
      "metadata": {
        "id": "KXJ49qw3tNnM"
      },
      "execution_count": null,
      "outputs": []
    },
    {
      "cell_type": "code",
      "source": [
        "model.fit(training_images,training_labels,epochs=10,callbacks=[callbacks])"
      ],
      "metadata": {
        "colab": {
          "base_uri": "https://localhost:8080/"
        },
        "id": "fpS2zzCjpc9m",
        "outputId": "39569d63-c94c-4a6a-8b63-1e249329d3e7"
      },
      "execution_count": null,
      "outputs": [
        {
          "output_type": "stream",
          "name": "stdout",
          "text": [
            "Epoch 1/10\n",
            "1875/1875 [==============================] - 10s 5ms/step - loss: 2.3026 - accuracy: 0.1000\n",
            "Epoch 2/10\n",
            "1875/1875 [==============================] - 8s 4ms/step - loss: 2.3026 - accuracy: 0.1000\n",
            "Epoch 3/10\n",
            "1875/1875 [==============================] - 9s 5ms/step - loss: 2.3026 - accuracy: 0.1000\n",
            "Epoch 4/10\n",
            "1875/1875 [==============================] - 9s 5ms/step - loss: 2.3026 - accuracy: 0.1000\n",
            "Epoch 5/10\n",
            "1875/1875 [==============================] - 9s 5ms/step - loss: 2.3026 - accuracy: 0.1000\n",
            "Epoch 6/10\n",
            "1875/1875 [==============================] - 9s 5ms/step - loss: 2.3026 - accuracy: 0.1000\n",
            "Epoch 7/10\n",
            "1875/1875 [==============================] - 9s 5ms/step - loss: 2.3026 - accuracy: 0.1000\n",
            "Epoch 8/10\n",
            "1875/1875 [==============================] - 7s 4ms/step - loss: 2.3026 - accuracy: 0.1000\n",
            "Epoch 9/10\n",
            "1875/1875 [==============================] - 9s 5ms/step - loss: 2.3026 - accuracy: 0.1000\n",
            "Epoch 10/10\n",
            "1875/1875 [==============================] - 7s 4ms/step - loss: 2.3026 - accuracy: 0.1000\n"
          ]
        },
        {
          "output_type": "execute_result",
          "data": {
            "text/plain": [
              "<keras.src.callbacks.History at 0x78bf3620ca00>"
            ]
          },
          "metadata": {},
          "execution_count": 25
        }
      ]
    },
    {
      "cell_type": "code",
      "source": [
        "model.evaluate(test_images, test_label)"
      ],
      "metadata": {
        "colab": {
          "base_uri": "https://localhost:8080/"
        },
        "id": "KOwOEbPYs-J7",
        "outputId": "78468e4a-6b86-478d-9690-e4d605450a87"
      },
      "execution_count": null,
      "outputs": [
        {
          "output_type": "stream",
          "name": "stdout",
          "text": [
            "313/313 [==============================] - 1s 2ms/step - loss: 2.3026 - accuracy: 0.1000\n"
          ]
        },
        {
          "output_type": "execute_result",
          "data": {
            "text/plain": [
              "[2.30259108543396, 0.10000000149011612]"
            ]
          },
          "metadata": {},
          "execution_count": 22
        }
      ]
    },
    {
      "cell_type": "code",
      "source": [],
      "metadata": {
        "id": "FbXc2wMXmmkQ"
      },
      "execution_count": null,
      "outputs": []
    }
  ]
}